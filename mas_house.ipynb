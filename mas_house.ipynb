{
 "cells": [
  {
   "cell_type": "code",
   "execution_count": 1,
   "id": "786b7183",
   "metadata": {},
   "outputs": [],
   "source": [
    "import pandas as pd\n",
    "import numpy as np\n",
    "\n",
    "import seaborn as sns\n",
    "import matplotlib.pyplot as plt\n",
    "%matplotlib inline"
   ]
  },
  {
   "cell_type": "code",
   "execution_count": 2,
   "id": "1f1443fd",
   "metadata": {},
   "outputs": [
    {
     "data": {
      "text/plain": [
       "53883"
      ]
     },
     "execution_count": 2,
     "metadata": {},
     "output_type": "execute_result"
    }
   ],
   "source": [
    "df = pd.read_csv('mas_housing.csv')\n",
    "len(df)"
   ]
  },
  {
   "cell_type": "code",
   "execution_count": 3,
   "id": "769f1b81",
   "metadata": {
    "scrolled": true
   },
   "outputs": [
    {
     "data": {
      "text/html": [
       "<div>\n",
       "<style scoped>\n",
       "    .dataframe tbody tr th:only-of-type {\n",
       "        vertical-align: middle;\n",
       "    }\n",
       "\n",
       "    .dataframe tbody tr th {\n",
       "        vertical-align: top;\n",
       "    }\n",
       "\n",
       "    .dataframe thead th {\n",
       "        text-align: right;\n",
       "    }\n",
       "</style>\n",
       "<table border=\"1\" class=\"dataframe\">\n",
       "  <thead>\n",
       "    <tr style=\"text-align: right;\">\n",
       "      <th></th>\n",
       "      <th>Location</th>\n",
       "      <th>Price</th>\n",
       "      <th>Rooms</th>\n",
       "      <th>Bathrooms</th>\n",
       "      <th>Car Parks</th>\n",
       "      <th>Property Type</th>\n",
       "      <th>Size</th>\n",
       "      <th>Furnishing</th>\n",
       "    </tr>\n",
       "  </thead>\n",
       "  <tbody>\n",
       "    <tr>\n",
       "      <th>0</th>\n",
       "      <td>KLCC, Kuala Lumpur</td>\n",
       "      <td>RM 1,250,000</td>\n",
       "      <td>2+1</td>\n",
       "      <td>3.0</td>\n",
       "      <td>2.0</td>\n",
       "      <td>Serviced Residence</td>\n",
       "      <td>Built-up : 1,335 sq. ft.</td>\n",
       "      <td>Fully Furnished</td>\n",
       "    </tr>\n",
       "    <tr>\n",
       "      <th>1</th>\n",
       "      <td>Damansara Heights, Kuala Lumpur</td>\n",
       "      <td>RM 6,800,000</td>\n",
       "      <td>6</td>\n",
       "      <td>7.0</td>\n",
       "      <td>NaN</td>\n",
       "      <td>Bungalow</td>\n",
       "      <td>Land area : 6900 sq. ft.</td>\n",
       "      <td>Partly Furnished</td>\n",
       "    </tr>\n",
       "    <tr>\n",
       "      <th>2</th>\n",
       "      <td>Dutamas, Kuala Lumpur</td>\n",
       "      <td>RM 1,030,000</td>\n",
       "      <td>3</td>\n",
       "      <td>4.0</td>\n",
       "      <td>2.0</td>\n",
       "      <td>Condominium (Corner)</td>\n",
       "      <td>Built-up : 1,875 sq. ft.</td>\n",
       "      <td>Partly Furnished</td>\n",
       "    </tr>\n",
       "    <tr>\n",
       "      <th>3</th>\n",
       "      <td>Cheras, Kuala Lumpur</td>\n",
       "      <td>NaN</td>\n",
       "      <td>NaN</td>\n",
       "      <td>NaN</td>\n",
       "      <td>NaN</td>\n",
       "      <td>NaN</td>\n",
       "      <td>NaN</td>\n",
       "      <td>NaN</td>\n",
       "    </tr>\n",
       "    <tr>\n",
       "      <th>4</th>\n",
       "      <td>Bukit Jalil, Kuala Lumpur</td>\n",
       "      <td>RM 900,000</td>\n",
       "      <td>4+1</td>\n",
       "      <td>3.0</td>\n",
       "      <td>2.0</td>\n",
       "      <td>Condominium (Corner)</td>\n",
       "      <td>Built-up : 1,513 sq. ft.</td>\n",
       "      <td>Partly Furnished</td>\n",
       "    </tr>\n",
       "  </tbody>\n",
       "</table>\n",
       "</div>"
      ],
      "text/plain": [
       "                          Location         Price Rooms  Bathrooms  Car Parks  \\\n",
       "0               KLCC, Kuala Lumpur  RM 1,250,000   2+1        3.0        2.0   \n",
       "1  Damansara Heights, Kuala Lumpur  RM 6,800,000     6        7.0        NaN   \n",
       "2            Dutamas, Kuala Lumpur  RM 1,030,000     3        4.0        2.0   \n",
       "3             Cheras, Kuala Lumpur           NaN   NaN        NaN        NaN   \n",
       "4        Bukit Jalil, Kuala Lumpur    RM 900,000   4+1        3.0        2.0   \n",
       "\n",
       "          Property Type                      Size        Furnishing  \n",
       "0    Serviced Residence  Built-up : 1,335 sq. ft.   Fully Furnished  \n",
       "1              Bungalow  Land area : 6900 sq. ft.  Partly Furnished  \n",
       "2  Condominium (Corner)  Built-up : 1,875 sq. ft.  Partly Furnished  \n",
       "3                   NaN                       NaN               NaN  \n",
       "4  Condominium (Corner)  Built-up : 1,513 sq. ft.  Partly Furnished  "
      ]
     },
     "execution_count": 3,
     "metadata": {},
     "output_type": "execute_result"
    }
   ],
   "source": [
    "df.head()"
   ]
  },
  {
   "cell_type": "code",
   "execution_count": 4,
   "id": "08f4586c",
   "metadata": {},
   "outputs": [],
   "source": [
    "df.columns = df.columns.str.lower().str.replace(' ', '_')\n",
    "\n",
    "string_columns = list(df.dtypes[df.dtypes == 'object'].index)\n",
    "\n",
    "for col in string_columns:\n",
    "    df[col] = df[col].str.lower().str.replace(' ', '_')"
   ]
  },
  {
   "cell_type": "code",
   "execution_count": 5,
   "id": "4b55307b",
   "metadata": {
    "scrolled": true
   },
   "outputs": [
    {
     "data": {
      "text/html": [
       "<div>\n",
       "<style scoped>\n",
       "    .dataframe tbody tr th:only-of-type {\n",
       "        vertical-align: middle;\n",
       "    }\n",
       "\n",
       "    .dataframe tbody tr th {\n",
       "        vertical-align: top;\n",
       "    }\n",
       "\n",
       "    .dataframe thead th {\n",
       "        text-align: right;\n",
       "    }\n",
       "</style>\n",
       "<table border=\"1\" class=\"dataframe\">\n",
       "  <thead>\n",
       "    <tr style=\"text-align: right;\">\n",
       "      <th></th>\n",
       "      <th>location</th>\n",
       "      <th>price</th>\n",
       "      <th>rooms</th>\n",
       "      <th>bathrooms</th>\n",
       "      <th>car_parks</th>\n",
       "      <th>property_type</th>\n",
       "      <th>size</th>\n",
       "      <th>furnishing</th>\n",
       "    </tr>\n",
       "  </thead>\n",
       "  <tbody>\n",
       "    <tr>\n",
       "      <th>0</th>\n",
       "      <td>klcc,_kuala_lumpur</td>\n",
       "      <td>rm_1,250,000</td>\n",
       "      <td>2+1</td>\n",
       "      <td>3.0</td>\n",
       "      <td>2.0</td>\n",
       "      <td>serviced_residence</td>\n",
       "      <td>built-up_:_1,335_sq._ft.</td>\n",
       "      <td>fully_furnished</td>\n",
       "    </tr>\n",
       "    <tr>\n",
       "      <th>1</th>\n",
       "      <td>damansara_heights,_kuala_lumpur</td>\n",
       "      <td>rm_6,800,000</td>\n",
       "      <td>6</td>\n",
       "      <td>7.0</td>\n",
       "      <td>NaN</td>\n",
       "      <td>bungalow</td>\n",
       "      <td>land_area_:_6900_sq._ft.</td>\n",
       "      <td>partly_furnished</td>\n",
       "    </tr>\n",
       "    <tr>\n",
       "      <th>2</th>\n",
       "      <td>dutamas,_kuala_lumpur</td>\n",
       "      <td>rm_1,030,000</td>\n",
       "      <td>3</td>\n",
       "      <td>4.0</td>\n",
       "      <td>2.0</td>\n",
       "      <td>condominium_(corner)</td>\n",
       "      <td>built-up_:_1,875_sq._ft.</td>\n",
       "      <td>partly_furnished</td>\n",
       "    </tr>\n",
       "    <tr>\n",
       "      <th>3</th>\n",
       "      <td>cheras,_kuala_lumpur</td>\n",
       "      <td>NaN</td>\n",
       "      <td>NaN</td>\n",
       "      <td>NaN</td>\n",
       "      <td>NaN</td>\n",
       "      <td>NaN</td>\n",
       "      <td>NaN</td>\n",
       "      <td>NaN</td>\n",
       "    </tr>\n",
       "    <tr>\n",
       "      <th>4</th>\n",
       "      <td>bukit_jalil,_kuala_lumpur</td>\n",
       "      <td>rm_900,000</td>\n",
       "      <td>4+1</td>\n",
       "      <td>3.0</td>\n",
       "      <td>2.0</td>\n",
       "      <td>condominium_(corner)</td>\n",
       "      <td>built-up_:_1,513_sq._ft.</td>\n",
       "      <td>partly_furnished</td>\n",
       "    </tr>\n",
       "  </tbody>\n",
       "</table>\n",
       "</div>"
      ],
      "text/plain": [
       "                          location         price rooms  bathrooms  car_parks  \\\n",
       "0               klcc,_kuala_lumpur  rm_1,250,000   2+1        3.0        2.0   \n",
       "1  damansara_heights,_kuala_lumpur  rm_6,800,000     6        7.0        NaN   \n",
       "2            dutamas,_kuala_lumpur  rm_1,030,000     3        4.0        2.0   \n",
       "3             cheras,_kuala_lumpur           NaN   NaN        NaN        NaN   \n",
       "4        bukit_jalil,_kuala_lumpur    rm_900,000   4+1        3.0        2.0   \n",
       "\n",
       "          property_type                      size        furnishing  \n",
       "0    serviced_residence  built-up_:_1,335_sq._ft.   fully_furnished  \n",
       "1              bungalow  land_area_:_6900_sq._ft.  partly_furnished  \n",
       "2  condominium_(corner)  built-up_:_1,875_sq._ft.  partly_furnished  \n",
       "3                   NaN                       NaN               NaN  \n",
       "4  condominium_(corner)  built-up_:_1,513_sq._ft.  partly_furnished  "
      ]
     },
     "execution_count": 5,
     "metadata": {},
     "output_type": "execute_result"
    }
   ],
   "source": [
    "df.head()"
   ]
  },
  {
   "cell_type": "code",
   "execution_count": 6,
   "id": "8833f334",
   "metadata": {},
   "outputs": [
    {
     "data": {
      "text/plain": [
       "location             0\n",
       "price              248\n",
       "rooms             1706\n",
       "bathrooms         2013\n",
       "car_parks        17567\n",
       "property_type       25\n",
       "size              1063\n",
       "furnishing        6930\n",
       "dtype: int64"
      ]
     },
     "execution_count": 6,
     "metadata": {},
     "output_type": "execute_result"
    }
   ],
   "source": [
    "df.isnull().sum()"
   ]
  },
  {
   "cell_type": "code",
   "execution_count": 7,
   "id": "a24260f0",
   "metadata": {},
   "outputs": [],
   "source": [
    "#data tranforming\n",
    "df['price'] = df['price'].str.replace(',', '').str.extract('(\\d+)').astype(float)\n",
    "df['size'] = df['size'].str.replace(',', '').str.extract('(\\d+)').astype(float)\n",
    "df['furnishing'] = df['furnishing'].mask(df['furnishing'] == 'unknown', np.nan)\n",
    "df['rooms'] = df['rooms'].apply(lambda x: sum(map(int, x.split('+'))) if (pd.notnull(x) and all(part.isdigit() for part in x.split('+'))) else np.nan)\n",
    "\n",
    "#data cleaning\n",
    "df = df.dropna(subset=['size'])\n",
    "df = df.dropna(subset=['price'])\n",
    "df = df.dropna(subset=['rooms'])\n",
    "df = df.dropna(subset='property_type')\n",
    "df.furnishing = df.furnishing.fillna(0)\n",
    "df.car_parks = df.car_parks.fillna(df.car_parks.mean()).astype(int)\n",
    "df.bathrooms = df.bathrooms.fillna(df.bathrooms.mean()).astype(int)\n",
    "\n",
    "# Create a mapping to group similar property types\n",
    "property_mapping = {\n",
    "    'condominium': 'condominium',\n",
    "    'terrace': 'terrace',\n",
    "    'residential_land': 'terrace',\n",
    "    'bungalow': 'bungalow',\n",
    "    'semi-detached_house': 'semi-detached_house',\n",
    "    'flat': 'flat',\n",
    "    'townhouse': 'terrace',\n",
    "    'apartment': 'apartment',\n",
    "    'serviced_residence': 'serviced_residence',\n",
    "    'cluster_house': 'terrace'\n",
    "}\n",
    "\n",
    "# Function to apply mapping and group similar property types\n",
    "def group_property_type(property_type):\n",
    "    for key, value in property_mapping.items():\n",
    "        if key in property_type:\n",
    "            return value\n",
    "    return property_type\n",
    "\n",
    "# Apply the mapping function to create a new column\n",
    "df['property_type'] = df['property_type'].apply(group_property_type)\n",
    "\n",
    "from sklearn.linear_model import LinearRegression\n",
    "\n",
    "model = LinearRegression()"
   ]
  },
  {
   "cell_type": "code",
   "execution_count": 8,
   "id": "fe97515a",
   "metadata": {},
   "outputs": [
    {
     "data": {
      "text/html": [
       "<div>\n",
       "<style scoped>\n",
       "    .dataframe tbody tr th:only-of-type {\n",
       "        vertical-align: middle;\n",
       "    }\n",
       "\n",
       "    .dataframe tbody tr th {\n",
       "        vertical-align: top;\n",
       "    }\n",
       "\n",
       "    .dataframe thead th {\n",
       "        text-align: right;\n",
       "    }\n",
       "</style>\n",
       "<table border=\"1\" class=\"dataframe\">\n",
       "  <thead>\n",
       "    <tr style=\"text-align: right;\">\n",
       "      <th></th>\n",
       "      <th>location</th>\n",
       "      <th>price</th>\n",
       "      <th>rooms</th>\n",
       "      <th>bathrooms</th>\n",
       "      <th>car_parks</th>\n",
       "      <th>property_type</th>\n",
       "      <th>size</th>\n",
       "      <th>furnishing</th>\n",
       "    </tr>\n",
       "  </thead>\n",
       "  <tbody>\n",
       "    <tr>\n",
       "      <th>0</th>\n",
       "      <td>klcc,_kuala_lumpur</td>\n",
       "      <td>1250000.0</td>\n",
       "      <td>3.0</td>\n",
       "      <td>3</td>\n",
       "      <td>2</td>\n",
       "      <td>serviced_residence</td>\n",
       "      <td>1335.0</td>\n",
       "      <td>fully_furnished</td>\n",
       "    </tr>\n",
       "    <tr>\n",
       "      <th>1</th>\n",
       "      <td>damansara_heights,_kuala_lumpur</td>\n",
       "      <td>6800000.0</td>\n",
       "      <td>6.0</td>\n",
       "      <td>7</td>\n",
       "      <td>2</td>\n",
       "      <td>bungalow</td>\n",
       "      <td>6900.0</td>\n",
       "      <td>partly_furnished</td>\n",
       "    </tr>\n",
       "    <tr>\n",
       "      <th>2</th>\n",
       "      <td>dutamas,_kuala_lumpur</td>\n",
       "      <td>1030000.0</td>\n",
       "      <td>3.0</td>\n",
       "      <td>4</td>\n",
       "      <td>2</td>\n",
       "      <td>condominium</td>\n",
       "      <td>1875.0</td>\n",
       "      <td>partly_furnished</td>\n",
       "    </tr>\n",
       "    <tr>\n",
       "      <th>4</th>\n",
       "      <td>bukit_jalil,_kuala_lumpur</td>\n",
       "      <td>900000.0</td>\n",
       "      <td>5.0</td>\n",
       "      <td>3</td>\n",
       "      <td>2</td>\n",
       "      <td>condominium</td>\n",
       "      <td>1513.0</td>\n",
       "      <td>partly_furnished</td>\n",
       "    </tr>\n",
       "    <tr>\n",
       "      <th>5</th>\n",
       "      <td>taman_tun_dr_ismail,_kuala_lumpur</td>\n",
       "      <td>5350000.0</td>\n",
       "      <td>6.0</td>\n",
       "      <td>5</td>\n",
       "      <td>4</td>\n",
       "      <td>bungalow</td>\n",
       "      <td>7200.0</td>\n",
       "      <td>partly_furnished</td>\n",
       "    </tr>\n",
       "  </tbody>\n",
       "</table>\n",
       "</div>"
      ],
      "text/plain": [
       "                            location      price  rooms  bathrooms  car_parks  \\\n",
       "0                 klcc,_kuala_lumpur  1250000.0    3.0          3          2   \n",
       "1    damansara_heights,_kuala_lumpur  6800000.0    6.0          7          2   \n",
       "2              dutamas,_kuala_lumpur  1030000.0    3.0          4          2   \n",
       "4          bukit_jalil,_kuala_lumpur   900000.0    5.0          3          2   \n",
       "5  taman_tun_dr_ismail,_kuala_lumpur  5350000.0    6.0          5          4   \n",
       "\n",
       "        property_type    size        furnishing  \n",
       "0  serviced_residence  1335.0   fully_furnished  \n",
       "1            bungalow  6900.0  partly_furnished  \n",
       "2         condominium  1875.0  partly_furnished  \n",
       "4         condominium  1513.0  partly_furnished  \n",
       "5            bungalow  7200.0  partly_furnished  "
      ]
     },
     "execution_count": 8,
     "metadata": {},
     "output_type": "execute_result"
    }
   ],
   "source": [
    "df.head()"
   ]
  },
  {
   "cell_type": "code",
   "execution_count": 9,
   "id": "3a65d1a8",
   "metadata": {
    "scrolled": true
   },
   "outputs": [
    {
     "data": {
      "text/html": [
       "<div>\n",
       "<style scoped>\n",
       "    .dataframe tbody tr th:only-of-type {\n",
       "        vertical-align: middle;\n",
       "    }\n",
       "\n",
       "    .dataframe tbody tr th {\n",
       "        vertical-align: top;\n",
       "    }\n",
       "\n",
       "    .dataframe thead th {\n",
       "        text-align: right;\n",
       "    }\n",
       "</style>\n",
       "<table border=\"1\" class=\"dataframe\">\n",
       "  <thead>\n",
       "    <tr style=\"text-align: right;\">\n",
       "      <th></th>\n",
       "      <th>location</th>\n",
       "      <th>price</th>\n",
       "      <th>rooms</th>\n",
       "      <th>bathrooms</th>\n",
       "      <th>car_parks</th>\n",
       "      <th>property_type</th>\n",
       "      <th>size</th>\n",
       "      <th>furnishing</th>\n",
       "    </tr>\n",
       "  </thead>\n",
       "  <tbody>\n",
       "    <tr>\n",
       "      <th>0</th>\n",
       "      <td>klcc,_kuala_lumpur</td>\n",
       "      <td>1250000.0</td>\n",
       "      <td>3.0</td>\n",
       "      <td>3</td>\n",
       "      <td>2</td>\n",
       "      <td>serviced_residence</td>\n",
       "      <td>1335.0</td>\n",
       "      <td>fully_furnished</td>\n",
       "    </tr>\n",
       "    <tr>\n",
       "      <th>1</th>\n",
       "      <td>damansara_heights,_kuala_lumpur</td>\n",
       "      <td>6800000.0</td>\n",
       "      <td>6.0</td>\n",
       "      <td>7</td>\n",
       "      <td>2</td>\n",
       "      <td>bungalow</td>\n",
       "      <td>6900.0</td>\n",
       "      <td>partly_furnished</td>\n",
       "    </tr>\n",
       "    <tr>\n",
       "      <th>2</th>\n",
       "      <td>dutamas,_kuala_lumpur</td>\n",
       "      <td>1030000.0</td>\n",
       "      <td>3.0</td>\n",
       "      <td>4</td>\n",
       "      <td>2</td>\n",
       "      <td>condominium</td>\n",
       "      <td>1875.0</td>\n",
       "      <td>partly_furnished</td>\n",
       "    </tr>\n",
       "    <tr>\n",
       "      <th>3</th>\n",
       "      <td>bukit_jalil,_kuala_lumpur</td>\n",
       "      <td>900000.0</td>\n",
       "      <td>5.0</td>\n",
       "      <td>3</td>\n",
       "      <td>2</td>\n",
       "      <td>condominium</td>\n",
       "      <td>1513.0</td>\n",
       "      <td>partly_furnished</td>\n",
       "    </tr>\n",
       "    <tr>\n",
       "      <th>4</th>\n",
       "      <td>taman_tun_dr_ismail,_kuala_lumpur</td>\n",
       "      <td>5350000.0</td>\n",
       "      <td>6.0</td>\n",
       "      <td>5</td>\n",
       "      <td>4</td>\n",
       "      <td>bungalow</td>\n",
       "      <td>7200.0</td>\n",
       "      <td>partly_furnished</td>\n",
       "    </tr>\n",
       "  </tbody>\n",
       "</table>\n",
       "</div>"
      ],
      "text/plain": [
       "                            location      price  rooms  bathrooms  car_parks  \\\n",
       "0                 klcc,_kuala_lumpur  1250000.0    3.0          3          2   \n",
       "1    damansara_heights,_kuala_lumpur  6800000.0    6.0          7          2   \n",
       "2              dutamas,_kuala_lumpur  1030000.0    3.0          4          2   \n",
       "3          bukit_jalil,_kuala_lumpur   900000.0    5.0          3          2   \n",
       "4  taman_tun_dr_ismail,_kuala_lumpur  5350000.0    6.0          5          4   \n",
       "\n",
       "        property_type    size        furnishing  \n",
       "0  serviced_residence  1335.0   fully_furnished  \n",
       "1            bungalow  6900.0  partly_furnished  \n",
       "2         condominium  1875.0  partly_furnished  \n",
       "3         condominium  1513.0  partly_furnished  \n",
       "4            bungalow  7200.0  partly_furnished  "
      ]
     },
     "execution_count": 9,
     "metadata": {},
     "output_type": "execute_result"
    }
   ],
   "source": [
    "df = df.reset_index(drop=True)\n",
    "df.head()"
   ]
  },
  {
   "cell_type": "code",
   "execution_count": 10,
   "id": "506b557f",
   "metadata": {},
   "outputs": [
    {
     "name": "stdout",
     "output_type": "stream",
     "text": [
      "49973\n"
     ]
    },
    {
     "data": {
      "text/plain": [
       "<Axes: xlabel='price', ylabel='Count'>"
      ]
     },
     "execution_count": 10,
     "metadata": {},
     "output_type": "execute_result"
    },
    {
     "data": {
      "image/png": "[encoded data removed]",
      "text/plain": [
       "<Figure size 640x480 with 1 Axes>"
      ]
     },
     "metadata": {},
     "output_type": "display_data"
    }
   ],
   "source": [
    "print(len(df))\n",
    "sns.histplot(df.price[df.price < 100000000], bins=40)"
   ]
  },
  {
   "cell_type": "code",
   "execution_count": 11,
   "id": "3cc43b1f",
   "metadata": {
    "scrolled": false
   },
   "outputs": [
    {
     "data": {
      "text/plain": [
       "<Axes: xlabel='price', ylabel='Count'>"
      ]
     },
     "execution_count": 11,
     "metadata": {},
     "output_type": "execute_result"
    },
    {
     "data": {
      "image/png": "[encoded data removed]",
      "text/plain": [
       "<Figure size 640x480 with 1 Axes>"
      ]
     },
     "metadata": {},
     "output_type": "display_data"
    }
   ],
   "source": [
    "rooted_price = df.price ** (1/16)\n",
    "sns.histplot(rooted_price)"
   ]
  },
  {
   "cell_type": "code",
   "execution_count": 12,
   "id": "566ce9b5",
   "metadata": {},
   "outputs": [],
   "source": [
    "n = len(df)\n",
    "\n",
    "n_val = int(n * 0.2)\n",
    "n_test = int(n * 0.2)\n",
    "n_train = n - n_val - n_test\n",
    "\n",
    "np.random.seed(2)\n",
    "idx = np.arange(n)\n",
    "np.random.shuffle(idx)\n",
    "\n",
    "df_shuffled = df.iloc[idx]\n",
    "\n",
    "df_train = df_shuffled[:n_train].copy()\n",
    "df_val = df_shuffled[n_train:n_train+n_val].copy()\n",
    "df_test = df_shuffled[n_train+n_val:].copy()"
   ]
  },
  {
   "cell_type": "code",
   "execution_count": 13,
   "id": "8b44ca9f",
   "metadata": {},
   "outputs": [],
   "source": [
    "y_train = df_train.price.values ** (1/16)\n",
    "y_val = df_val.price.values ** (1/16)\n",
    "y_test = df_test.price.values ** (1/16)"
   ]
  },
  {
   "cell_type": "code",
   "execution_count": 14,
   "id": "0dab1293",
   "metadata": {},
   "outputs": [],
   "source": [
    "del df_train['price']\n",
    "del df_val['price']\n",
    "del df_test['price']"
   ]
  },
  {
   "cell_type": "code",
   "execution_count": 15,
   "id": "865cf4a7",
   "metadata": {},
   "outputs": [],
   "source": [
    "def linear_regression(xi):\n",
    "    xi = [1] + xi\n",
    "    return xi.dot(w)"
   ]
  },
  {
   "cell_type": "code",
   "execution_count": 16,
   "id": "fca51bce",
   "metadata": {},
   "outputs": [],
   "source": [
    "def train_linear_regression(X, y):\n",
    "    # adding dummy column\n",
    "    ones = np.ones(X.shape[0])\n",
    "    X = np.column_stack([ones, X])\n",
    "    \n",
    "    # The equation\n",
    "    XTX = X.T.dot(X)\n",
    "    XTX_inv = np.linalg.inv(XTX)\n",
    "    w = XTX_inv.dot(X.T).dot(y)\n",
    "    \n",
    "    return w[0], w[1:]"
   ]
  },
  {
   "cell_type": "code",
   "execution_count": 17,
   "id": "a2c80566",
   "metadata": {},
   "outputs": [
    {
     "data": {
      "text/plain": [
       "<matplotlib.legend.Legend at 0x20f8aea1cd0>"
      ]
     },
     "execution_count": 17,
     "metadata": {},
     "output_type": "execute_result"
    },
    {
     "data": {
      "image/png": "[encoded data removed]",
      "text/plain": [
       "<Figure size 640x480 with 1 Axes>"
      ]
     },
     "metadata": {},
     "output_type": "display_data"
    }
   ],
   "source": [
    "base = ['rooms', 'bathrooms', 'car_parks', 'size']\n",
    "df_num = df_train[base]\n",
    "X_train = df_num.values\n",
    "\n",
    "#train the model\n",
    "w_0, w = train_linear_regression(X_train, y_train)\n",
    "\n",
    "#target prediction\n",
    "y_pred = w_0 + X_train.dot(w)\n",
    "\n",
    "#check histogram if the prediction is close to the actual price\n",
    "sns.histplot(y_pred, label='prediction')\n",
    "sns.histplot(y_train, label='target')\n",
    "plt.legend()"
   ]
  },
  {
   "cell_type": "code",
   "execution_count": 18,
   "id": "560771cf",
   "metadata": {},
   "outputs": [
    {
     "name": "stdout",
     "output_type": "stream",
     "text": [
      "R-squared: 0.4887152367670581\n"
     ]
    }
   ],
   "source": [
    "from sklearn.metrics import r2_score\n",
    "\n",
    "r_squared = r2_score(y_train, y_pred)\n",
    "\n",
    "print(f'R-squared: {r_squared}')"
   ]
  },
  {
   "cell_type": "code",
   "execution_count": 19,
   "id": "489887a0",
   "metadata": {},
   "outputs": [
    {
     "name": "stdout",
     "output_type": "stream",
     "text": [
      "R-squared: 0.43613464402375357\n"
     ]
    }
   ],
   "source": [
    "df_num = df_val[base]\n",
    "X_val = df_num.values\n",
    "\n",
    "#predict validation\n",
    "y_pred = w_0 + X_val.dot(w)\n",
    "\n",
    "#check performance\n",
    "print(f'R-squared: {r2_score(y_val, y_pred)}')"
   ]
  },
  {
   "cell_type": "code",
   "execution_count": 20,
   "id": "3a2fab7c",
   "metadata": {},
   "outputs": [],
   "source": [
    "def prepare_X(df):\n",
    "    #create copy prevent side effect\n",
    "    df = df.copy()\n",
    "    features = base.copy()\n",
    "    \n",
    "    df_num = df[features]\n",
    "    X = df_num.values\n",
    "    return X"
   ]
  },
  {
   "cell_type": "code",
   "execution_count": 21,
   "id": "b1d9073e",
   "metadata": {},
   "outputs": [
    {
     "data": {
      "text/plain": [
       "array(['serviced_residence', 'bungalow', 'condominium',\n",
       "       'semi-detached_house', 'terrace', 'apartment', 'flat'],\n",
       "      dtype=object)"
      ]
     },
     "execution_count": 21,
     "metadata": {},
     "output_type": "execute_result"
    }
   ],
   "source": [
    "df.property_type.unique()"
   ]
  },
  {
   "cell_type": "code",
   "execution_count": 22,
   "id": "7492b673",
   "metadata": {
    "scrolled": true
   },
   "outputs": [
    {
     "data": {
      "text/plain": [
       "array(['fully_furnished', 'partly_furnished', 'unfurnished', 0],\n",
       "      dtype=object)"
      ]
     },
     "execution_count": 22,
     "metadata": {},
     "output_type": "execute_result"
    }
   ],
   "source": [
    "df.furnishing.unique()"
   ]
  },
  {
   "cell_type": "code",
   "execution_count": 23,
   "id": "81f0ba32",
   "metadata": {},
   "outputs": [
    {
     "data": {
      "text/plain": [
       "array(['klcc,_kuala_lumpur', 'damansara_heights,_kuala_lumpur',\n",
       "       'dutamas,_kuala_lumpur', 'bukit_jalil,_kuala_lumpur',\n",
       "       'taman_tun_dr_ismail,_kuala_lumpur', 'sri_petaling,_kuala_lumpur',\n",
       "       'bukit_tunku_(kenny_hills),_kuala_lumpur',\n",
       "       'mont_kiara,_kuala_lumpur', 'desa_parkcity,_kuala_lumpur',\n",
       "       'bangsar_south,_kuala_lumpur', 'ampang_hilir,_kuala_lumpur',\n",
       "       'kepong,_kuala_lumpur',\n",
       "       'jalan_klang_lama_(old_klang_road),_kuala_lumpur',\n",
       "       'sungai_besi,_kuala_lumpur', 'kl_city,_kuala_lumpur',\n",
       "       'kl_sentral,_kuala_lumpur', 'taman_melawati,_kuala_lumpur',\n",
       "       'setapak,_kuala_lumpur', 'city_centre,_kuala_lumpur',\n",
       "       'country_heights_damansara,_kuala_lumpur',\n",
       "       'taman_desa,_kuala_lumpur', 'sentul,_kuala_lumpur',\n",
       "       'bangsar,_kuala_lumpur', 'segambut,_kuala_lumpur',\n",
       "       'wangsa_maju,_kuala_lumpur', 'batu_caves,_kuala_lumpur',\n",
       "       'ampang,_kuala_lumpur', 'sri_hartamas,_kuala_lumpur',\n",
       "       'cheras,_kuala_lumpur', 'bukit_kiara,_kuala_lumpur',\n",
       "       'setiawangsa,_kuala_lumpur', 'oug,_kuala_lumpur',\n",
       "       'bukit_bintang,_kuala_lumpur', 'jalan_sultan_ismail,_kuala_lumpur',\n",
       "       'chan_sow_lin,_kuala_lumpur', 'jalan_kuching,_kuala_lumpur',\n",
       "       'bandar_menjalara,_kuala_lumpur', 'seputeh,_kuala_lumpur',\n",
       "       'sunway_spk,_kuala_lumpur', 'kl_eco_city,_kuala_lumpur',\n",
       "       'pantai,_kuala_lumpur', 'adiva_desa_parkcity,_kuala_lumpur',\n",
       "       'kuchai_lama,_kuala_lumpur', 'jalan_ipoh,_kuala_lumpur',\n",
       "       'mid_valley_city,_kuala_lumpur', 'brickfields,_kuala_lumpur',\n",
       "       'desa_pandan,_kuala_lumpur', 'pandan_indah,_kuala_lumpur',\n",
       "       'desa_petaling,_kuala_lumpur', 'federal_hill,_kuala_lumpur',\n",
       "       'pandan_perdana,_kuala_lumpur',\n",
       "       'bandar_damai_perdana,_kuala_lumpur', 'puchong,_kuala_lumpur',\n",
       "       'keramat,_kuala_lumpur', 'salak_selatan,_kuala_lumpur',\n",
       "       'semarak,_kuala_lumpur', 'titiwangsa,_kuala_lumpur',\n",
       "       'damansara,_kuala_lumpur', 'alam_damai,_kuala_lumpur',\n",
       "       'jinjang,_kuala_lumpur', 'gombak,_kuala_lumpur',\n",
       "       'bandar_tasik_selatan,_kuala_lumpur',\n",
       "       'the_mines_resort,_kuala_lumpur', 'taman_duta,_kuala_lumpur',\n",
       "       'happy_garden,_kuala_lumpur', 'taman_yarl,_kuala_lumpur',\n",
       "       'pandan_jaya,_kuala_lumpur', 'u-thant,_kuala_lumpur',\n",
       "       'taman_tar,_kuala_lumpur', 'sungai_penchala,_kuala_lumpur',\n",
       "       'taman_melati,_kuala_lumpur', 'landed_sd,_kuala_lumpur',\n",
       "       'seri_kembangan,_kuala_lumpur', 'kuala_lumpur',\n",
       "       'taman_wangsa_permai,_kuala_lumpur', 'other,_kuala_lumpur',\n",
       "       'taman_cheras_perdana,_kuala_lumpur', 'bukit_ledang,_kuala_lumpur',\n",
       "       'sri_damansara,_kuala_lumpur', 'bukit__persekutuan,_kuala_lumpur',\n",
       "       'wangsa_melawati,_kuala_lumpur', 'taman_yarl_oug,_kuala_lumpur',\n",
       "       'kota_damansara,_kuala_lumpur', 'taman_ibukota,_kuala_lumpur',\n",
       "       'ukay_heights,_kuala_lumpur', 'santuari_park_pantai,_kuala_lumpur',\n",
       "       'singapore,_kuala_lumpur', 'bandar_sri_damansara,_kuala_lumpur',\n",
       "       'cyberjaya,_kuala_lumpur', 'taman_yarl,_uog,_kuala_lumpur',\n",
       "       'sungai_long_sl8,_kuala_lumpur', 'gurney,_kuala_lumpur',\n",
       "       'taman_connaught,_kuala_lumpur', 'bukit_damansara,_kuala_lumpur',\n",
       "       'kemensah,_kuala_lumpur', 'jalan_u-thant,_kuala_lumpur',\n",
       "       'rawang,_kuala_lumpur', 'solaris_dutamas,_kuala_lumpur',\n",
       "       'duta_nusantara,_kuala_lumpur', 'casa_rimba,_kuala_lumpur',\n",
       "       'taman_sri_keramat,_kuala_lumpur',\n",
       "       'canary_residence,_kuala_lumpur', 'kuala_lumpur,_kuala_lumpur'],\n",
       "      dtype=object)"
      ]
     },
     "execution_count": 23,
     "metadata": {},
     "output_type": "execute_result"
    }
   ],
   "source": [
    "df.location.unique()"
   ]
  },
  {
   "cell_type": "code",
   "execution_count": 24,
   "id": "796c7fea",
   "metadata": {},
   "outputs": [],
   "source": [
    "def prepare_X(df):\n",
    "    #create copy prevent side effect\n",
    "    df = df.copy()\n",
    "    features = base.copy()\n",
    "    \n",
    "    for v in ['terrace', 'bungalow', 'condominium', 'semi-detached_house', 'apartment', 'flat']:\n",
    "        feature = 'property_type_is_%s' % v\n",
    "        df[feature] = (df['property_type'] == v).astype(int)\n",
    "        features.append(feature)\n",
    "    \n",
    "    for v in ['fully_furnished', 'partly_furnished', 'unfurnished']:\n",
    "        feature = 'furnishing_status_is_%s' % v\n",
    "        df[feature] = (df['furnishing'] == v).astype(int)\n",
    "        features.append(feature)\n",
    "        \n",
    "    df_num = df[features]\n",
    "    X = df_num.values\n",
    "    return X"
   ]
  },
  {
   "cell_type": "code",
   "execution_count": 25,
   "id": "d2a0b40d",
   "metadata": {},
   "outputs": [
    {
     "name": "stdout",
     "output_type": "stream",
     "text": [
      "validation: 0.5237084661307303\n"
     ]
    },
    {
     "data": {
      "text/plain": [
       "<matplotlib.legend.Legend at 0x20f8ee395e0>"
      ]
     },
     "execution_count": 25,
     "metadata": {},
     "output_type": "execute_result"
    },
    {
     "data": {
      "image/png": "[encoded data removed]",
      "text/plain": [
       "<Figure size 640x480 with 1 Axes>"
      ]
     },
     "metadata": {},
     "output_type": "display_data"
    }
   ],
   "source": [
    "X_train = prepare_X(df_train)\n",
    "w_0, w = train_linear_regression(X_train, y_train)\n",
    "\n",
    "X_val = prepare_X(df_val)\n",
    "y_pred = w_0 + X_val.dot(w)\n",
    "print(f'validation: {r2_score(y_val, y_pred)}')\n",
    "\n",
    "#check histogram if the prediction is close to the actual price\n",
    "sns.histplot(y_pred, label='prediction')\n",
    "sns.histplot(y_train, label='target')\n",
    "plt.legend()"
   ]
  },
  {
   "cell_type": "code",
   "execution_count": 26,
   "id": "7efcc867",
   "metadata": {},
   "outputs": [],
   "source": [
    "def train_linear_regression_reg(X, y, r=0.0):\n",
    "    ones = np.ones(X.shape[0])\n",
    "    X = np.column_stack([ones, X])\n",
    "    \n",
    "    XTX = X.T.dot(X)\n",
    "    reg = r * np.eye(XTX.shape[0])\n",
    "    XTX = XTX + reg\n",
    "    \n",
    "    XTX_inv = np.linalg.inv(XTX)\n",
    "    w = XTX_inv.dot(X.T).dot(y)\n",
    "    \n",
    "    return w[0], w[1:]"
   ]
  },
  {
   "cell_type": "code",
   "execution_count": 27,
   "id": "015e691b",
   "metadata": {},
   "outputs": [
    {
     "name": "stdout",
     "output_type": "stream",
     "text": [
      "validation: 0.5237084660671354\n",
      "0.5237084661308375\n"
     ]
    },
    {
     "data": {
      "image/png": "[encoded data removed]",
      "text/plain": [
       "<Figure size 640x480 with 1 Axes>"
      ]
     },
     "metadata": {},
     "output_type": "display_data"
    }
   ],
   "source": [
    "X_train = prepare_X(df_train)\n",
    "w_0, w = train_linear_regression_reg(X_train, y_train, r=0.000001)\n",
    "\n",
    "X_val = prepare_X(df_val)\n",
    "y_pred = w_0 + X_val.dot(w)\n",
    "print(f'validation: {r2_score(y_val, y_pred)}')\n",
    "\n",
    "#check histogram if the prediction is close to the actual price\n",
    "sns.histplot(y_pred, label='prediction')\n",
    "sns.histplot(y_train, label='target')\n",
    "plt.legend()\n",
    "\n",
    "model.fit(X_train, y_train)\n",
    "print(model.score(X_val, y_val))"
   ]
  },
  {
   "cell_type": "code",
   "execution_count": 30,
   "id": "d17c9646",
   "metadata": {},
   "outputs": [
    {
     "data": {
      "text/plain": [
       "0.6800181829787258"
      ]
     },
     "execution_count": 30,
     "metadata": {},
     "output_type": "execute_result"
    }
   ],
   "source": [
    "from sklearn.ensemble import RandomForestRegressor\n",
    "\n",
    "rf_model = RandomForestRegressor()\n",
    "rf_model.fit(X_train, y_train)\n",
    "\n",
    "rf_model.score(X_val, y_val)"
   ]
  }
 ],
 "metadata": {
  "kernelspec": {
   "display_name": "Python 3 (ipykernel)",
   "language": "python",
   "name": "python3"
  },
  "language_info": {
   "codemirror_mode": {
    "name": "ipython",
    "version": 3
   },
   "file_extension": ".py",
   "mimetype": "text/x-python",
   "name": "python",
   "nbconvert_exporter": "python",
   "pygments_lexer": "ipython3",
   "version": "3.9.16"
  }
 },
 "nbformat": 4,
 "nbformat_minor": 5
}
